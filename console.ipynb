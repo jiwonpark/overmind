{
 "cells": [
  {
   "cell_type": "code",
   "execution_count": null,
   "metadata": {},
   "outputs": [],
   "source": [
    "%conda uninstall JWT\n",
    "%conda uninstall PyJWT\n",
    "%conda install PyJWT"
   ]
  },
  {
   "cell_type": "code",
   "execution_count": null,
   "metadata": {
    "scrolled": false
   },
   "outputs": [],
   "source": [
    "%run bitfinex\n",
    "# await run(config, None, tester2)\n",
    "await main(config, None, tester3)"
   ]
  },
  {
   "cell_type": "code",
   "execution_count": null,
   "metadata": {},
   "outputs": [],
   "source": [
    "%run arbiter\n",
    "arbiter = Arbiter()\n",
    "await arbiter.start()\n",
    "await arbiter.plot(5)"
   ]
  },
  {
   "cell_type": "code",
   "execution_count": null,
   "metadata": {},
   "outputs": [],
   "source": [
    "%run upbit_helpers.py\n",
    "await start_quickie('KRW-BTC', 100000, [1.01, 1.02, 1.03, 1.04, 1.05])\n"
   ]
  },
  {
   "cell_type": "code",
   "execution_count": null,
   "metadata": {},
   "outputs": [],
   "source": [
    "# %run upbit\n",
    "\n",
    "# class Config():\n",
    "#     pass\n",
    "\n",
    "# config_upbit = Config()\n",
    "# config_upbit.lossless_ratio = 1.0015\n",
    "# config_upbit.lossless_distance_ratio = 1.0005\n",
    "# config_upbit.adverse_movement_limit_ratio = 1.0015\n",
    "# config_upbit.limit_ratio = 1.1\n",
    "# config_upbit.pair = 'KRW-ETH'\n",
    "\n",
    "# await handle_liquidations(config_upbit)"
   ]
  },
  {
   "cell_type": "code",
   "execution_count": null,
   "metadata": {
    "tags": []
   },
   "outputs": [],
   "source": [
    "%run arbiter\n",
    "await Upbit().producer_ub()"
   ]
  },
  {
   "cell_type": "code",
   "execution_count": null,
   "metadata": {},
   "outputs": [],
   "source": []
  },
  {
   "cell_type": "code",
   "execution_count": null,
   "metadata": {},
   "outputs": [],
   "source": [
    "# %run upbit\n",
    "\n",
    "# # order = post_limit_order('KRW-ETH', -0.00071633, 701200)\n",
    "# order = post_limit_order('KRW-ETH', 0.01, 650000)\n",
    "# log(order)\n",
    "# order_id = order['uuid']\n",
    "# order = await wait_order_fulfillment(order_id)\n"
   ]
  },
  {
   "cell_type": "code",
   "execution_count": null,
   "metadata": {},
   "outputs": [],
   "source": []
  }
 ],
 "metadata": {
  "kernelspec": {
   "name": "python3",
   "display_name": "Python 3",
   "language": "python"
  },
  "language_info": {
   "codemirror_mode": {
    "name": "ipython",
    "version": 3
   },
   "file_extension": ".py",
   "mimetype": "text/x-python",
   "name": "python",
   "nbconvert_exporter": "python",
   "pygments_lexer": "ipython3",
   "version": "3.7.3-final"
  }
 },
 "nbformat": 4,
 "nbformat_minor": 4
}