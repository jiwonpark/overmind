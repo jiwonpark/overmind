{
 "cells": [
  {
   "cell_type": "code",
   "execution_count": null,
   "metadata": {
    "tags": []
   },
   "outputs": [],
   "source": [
    "from loader import retrieve_polo\n",
    "from analyze_correlation import *"
   ]
  },
  {
   "cell_type": "code",
   "execution_count": null,
   "metadata": {
    "tags": []
   },
   "outputs": [],
   "source": [
    "\n",
    "# test_simularity()\n",
    "# print('INDEX   TIMESTAMP            OPEN    CLOSE   HIGH    LOW     VOLUME      MOVE')\n",
    "\n",
    "x = 200\n",
    "y = 200\n",
    "c = 300"
   ]
  },
  {
   "cell_type": "code",
   "execution_count": null,
   "metadata": {
    "tags": []
   },
   "outputs": [],
   "source": [
    "# segment_polo_ltc_30 = retrieve_polo('USDT_LTC', 30, '2017-01-01', '2020-09-15') # 요구된 봉 데이터를 Poloniex 거래소 API로 읽어와서 n x 6 크기의 numpy array로 만들어주는 함수\n",
    "# segment_polo_ltc_5 = retrieve_polo('USDT_LTC', 5, '2017-01-01', '2020-09-15') # 요구된 봉 데이터를 Poloniex 거래소 API로 읽어와서 n x 6 크기의 numpy array로 만들어주는 함수\n",
    "\n",
    "# segment_polo_btc_30 = retrieve_polo('USDT_BTC', 30, '2017-01-01', '2020-09-15') # 요구된 봉 데이터를 Poloniex 거래소 API로 읽어와서 n x 6 크기의 numpy array로 만들어주는 함수\n",
    "# segment_polo_btc_5 = retrieve_polo('USDT_BTC', 5, '2017-01-01', '2020-09-15') # 요구된 봉 데이터를 Poloniex 거래소 API로 읽어와서 n x 6 크기의 numpy array로 만들어주는 함수\n",
    "\n",
    "segment_polo_ltc_30 = load_poloniex_candles_from_csv('USDT_LTC', 30)\n",
    "segment_polo_ltc_5 = load_poloniex_candles_from_csv('USDT_LTC', 5)\n",
    "\n",
    "segment_polo_btc_30 = load_poloniex_candles_from_csv('USDT_BTC', 30)\n",
    "segment_polo_btc_5 = load_poloniex_candles_from_csv('USDT_BTC', 5)\n",
    "\n",
    "cluster_info = {}\n",
    "cluster_info['segment'] = segment_polo_btc_5[-1000:,:]\n",
    "cluster_info['clustering'] = get_clusters(segment_polo_btc_5, x, y, c)\n",
    "\n",
    "instance = 'polo_btc_5_' + str(c)\n",
    "\n",
    "import pickle\n",
    "\n",
    "with open('cluster_info.' + instance + '.pickle.staging', 'wb') as f:\n",
    "    pickle.dump(cluster_info, f)\n"
   ]
  },
  {
   "cell_type": "code",
   "execution_count": null,
   "metadata": {
    "tags": []
   },
   "outputs": [],
   "source": [
    "import pickle\n",
    "\n",
    "def load_cluster_info(instance):\n",
    "    with open('cluster_info.' + instance + '.pickle', 'rb') as f:\n",
    "        cluster_info = pickle.load(f)\n",
    "        print(len(cluster_info['segment']))\n",
    "        print(cluster_info['clustering'])\n",
    "    return cluster_info\n",
    "\n",
    "cluster_db = {}\n",
    "\n",
    "cluster_db[instance] = load_cluster_info(instance + '_100000')"
   ]
  },
  {
   "cell_type": "code",
   "execution_count": null,
   "metadata": {},
   "outputs": [],
   "source": [
    "find_common_permutations(segment, clustering, c)"
   ]
  },
  {
   "cell_type": "code",
   "execution_count": null,
   "metadata": {
    "tags": []
   },
   "outputs": [],
   "source": [
    "def find_prio_rise(segment, clustering, c, max_loss_ratio, min_profit_ratio):\n",
    "    global snapshots_count\n",
    "\n",
    "    n = segment.shape[0]\n",
    "    r = n - x\n",
    "\n",
    "    ltc = Series(segment)\n",
    "\n",
    "    match_count = np.full(c, 0, dtype=np.int32)\n",
    "    member_count = np.full(c, 0, dtype=np.int32)\n",
    "\n",
    "    for i in range(r-y):\n",
    "        j = i + x\n",
    "        cluster = clustering.labels_[i]\n",
    "        member_count[cluster] += 1\n",
    "        if segment[j,1] / min(segment[j:j+y,4]) < max_loss_ratio and max(segment[j:j+y,3]) / segment[j,1] > min_profit_ratio:\n",
    "            # if snapshots_count < max_snapshots:\n",
    "            #     ax = fig.add_subplot(gs_all[0, snapshots_count])\n",
    "            #     ltc.draw(ax, j)\n",
    "            #     snapshots_count += 1\n",
    "            match_count[cluster] += 1\n",
    "    a = np.transpose(np.array([match_count / member_count, match_count, member_count, np.arange(c, dtype=np.int32)]))\n",
    "    return a[a[:,0].argsort()]\n",
    "\n",
    "cluster_info = cluster_db[instance]\n",
    "\n",
    "segment = cluster_info['segment']\n",
    "clustering = cluster_info['clustering']\n",
    "\n",
    "# prio_rise = find_prio_rise(segment, clustering, c, 1.03, 1.05)\n",
    "prio_rise = find_prio_rise(segment, clustering, c, 1.005, 1.02)\n",
    "for i in range(c):\n",
    "    if prio_rise[i,0] > 0.5:\n",
    "        print(prio_rise[i,0], prio_rise[i,1], prio_rise[i,2], prio_rise[i,3])\n"
   ]
  },
  {
   "cell_type": "code",
   "execution_count": null,
   "metadata": {
    "tags": []
   },
   "outputs": [],
   "source": [
    "snapshots_count = 0\n",
    "fig = plt.figure(figsize=(20 * max_snapshots, 7 * coins_count))\n",
    "gs_all = gridspec.GridSpec(coins_count, max_snapshots, figure=fig)\n",
    "\n",
    "n = segment.shape[0]\n",
    "r = n - x\n",
    "\n",
    "ltc = Series(segment)\n",
    "\n",
    "last = None\n",
    "\n",
    "for i in range(r-y):\n",
    "    j = i + x\n",
    "    if clustering.labels_[i] == 37 and (last is None or last < i - 50):\n",
    "        last = i\n",
    "        if snapshots_count < max_snapshots:\n",
    "            ax = fig.add_subplot(gs_all[0, snapshots_count])\n",
    "            ltc.draw(ax, j)\n",
    "            snapshots_count += 1\n",
    "\n",
    "print('Rendering...')\n",
    "fig.savefig(\"analyze_correlation.png\", bbox_inches='tight', dpi=100)\n",
    "plt.close(fig)\n",
    "print('done')\n"
   ]
  },
  {
   "cell_type": "code",
   "execution_count": null,
   "metadata": {},
   "outputs": [],
   "source": []
  }
 ],
 "metadata": {
  "kernelspec": {
   "display_name": "Python 3",
   "language": "python",
   "name": "python3"
  },
  "language_info": {
   "codemirror_mode": {
    "name": "ipython",
    "version": 3
   },
   "file_extension": ".py",
   "mimetype": "text/x-python",
   "name": "python",
   "nbconvert_exporter": "python",
   "pygments_lexer": "ipython3",
   "version": "3.7.3-final"
  }
 },
 "nbformat": 4,
 "nbformat_minor": 2
}